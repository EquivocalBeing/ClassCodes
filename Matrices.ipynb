{
 "cells": [
  {
   "cell_type": "code",
   "execution_count": 27,
   "id": "7ff2167a",
   "metadata": {},
   "outputs": [
    {
     "name": "stdout",
     "output_type": "stream",
     "text": [
      "Determinate:\n",
      "59.0\n",
      "\n",
      "A^T:\n",
      "[[ 1 -3 -1 -1]\n",
      " [-1 -3 -1 -2]\n",
      " [ 0 -1 -3  2]\n",
      " [ 0 -1  2  1]]\n",
      "\n",
      "A^-1:\n",
      "[[ 0.54 -0.12 -0.02 -0.08]\n",
      " [-0.46 -0.12 -0.02 -0.08]\n",
      " [-0.12 -0.07 -0.15  0.24]\n",
      " [-0.14 -0.22  0.25  0.27]]\n",
      "\n",
      "[[1. 0. 0. 0.]\n",
      " [0. 1. 0. 0.]\n",
      " [0. 0. 1. 0.]\n",
      " [0. 0. 0. 1.]]\n"
     ]
    }
   ],
   "source": [
    "import numpy as np\n",
    "import math\n",
    "import warnings\n",
    "\n",
    "A = np.array([[1, -1, 0, 0],\n",
    "            [-3, -3, -1, -1],\n",
    "            [-1, -1, -3, 2],\n",
    "             [-1, -2, 2, 1]])\n",
    "'''\n",
    "A = np.array([[1, -4, 1],\n",
    "            [1, -2, 4],\n",
    "            [0, 2, 3]])\n",
    " '''           \n",
    "det = np.linalg.det(A)\n",
    "print('Determinate:' + '\\n' +str(round(det, 2))+ '\\n')\n",
    "\n",
    "trans = np.transpose(A)\n",
    "print('A^T:' + '\\n' + str(trans) + '\\n')\n",
    "\n",
    "if det != 0:\n",
    "    warnings.simplefilter('ignore')\n",
    "    A_inv = np.linalg.inv(A)\n",
    "    print('A^-1:' +'\\n' + str(np.around(A_inv, 2)) + '\\n')\n",
    "else:\n",
    "    \n",
    "    print('A is not invertible')\n",
    "I = abs(A @ A_inv)\n",
    "print(np.around(I, 2))"
   ]
  },
  {
   "cell_type": "code",
   "execution_count": 16,
   "id": "9416e56b",
   "metadata": {},
   "outputs": [
    {
     "name": "stdout",
     "output_type": "stream",
     "text": [
      "AB:\n",
      "[[ 0.        ]\n",
      " [ 0.        ]\n",
      " [ 0.33333333]\n",
      " [-0.33333333]]\n"
     ]
    }
   ],
   "source": [
    "theta = 0\n",
    "B = np.array([[-1],\n",
    "            [1],\n",
    "             [0],\n",
    "             [0]])\n",
    "\n",
    "AB = A_inv @ B\n",
    "print( 'AB:' + '\\n' + str(AB))"
   ]
  },
  {
   "cell_type": "code",
   "execution_count": null,
   "id": "28204850",
   "metadata": {},
   "outputs": [],
   "source": []
  }
 ],
 "metadata": {
  "kernelspec": {
   "display_name": "Python 3 (ipykernel)",
   "language": "python",
   "name": "python3"
  },
  "language_info": {
   "codemirror_mode": {
    "name": "ipython",
    "version": 3
   },
   "file_extension": ".py",
   "mimetype": "text/x-python",
   "name": "python",
   "nbconvert_exporter": "python",
   "pygments_lexer": "ipython3",
   "version": "3.9.13"
  }
 },
 "nbformat": 4,
 "nbformat_minor": 5
}
