{
 "cells": [
  {
   "cell_type": "code",
   "execution_count": 52,
   "id": "7ff2167a",
   "metadata": {},
   "outputs": [],
   "source": [
    "####################################################################################################################\n",
    "# import required packages\n",
    "# Set A matrix\n",
    "# b if needed to find the x matrix\n",
    "#\n",
    "## You will have to run the in order to get them to run\n",
    "## Since variables and objects are defined in the prior cells\n",
    "## HOwever, this does not apply to the Cramer's Rule cell \n",
    "####################################################################################################################\n",
    "\n",
    "import numpy as np\n",
    "import math\n",
    "import warnings\n",
    "from fractions import Fraction\n",
    "\n",
    "\n",
    "A = np.array([[2, 3, 2],\n",
    "            [-1, -3, -8],\n",
    "            [-3, 2, -7]])\n",
    "\n",
    "b = np.array([[-2],\n",
    "            [-2],\n",
    "             [2]])"
   ]
  },
  {
   "cell_type": "code",
   "execution_count": 53,
   "id": "0b6b47b7",
   "metadata": {},
   "outputs": [
    {
     "name": "stdout",
     "output_type": "stream",
     "text": [
      "A^T:\n",
      "[[ 2 -1 -3]\n",
      " [ 3 -3  2]\n",
      " [ 2 -8 -7]]\n",
      "\n"
     ]
    }
   ],
   "source": [
    "####################################################################################################################\n",
    "#Finding Transpose of A\n",
    "####################################################################################################################\n",
    "trans = np.transpose(A)\n",
    "print('A^T:' + '\\n' + str(trans) + '\\n')"
   ]
  },
  {
   "cell_type": "code",
   "execution_count": 54,
   "id": "68b64278",
   "metadata": {},
   "outputs": [
    {
     "name": "stdout",
     "output_type": "stream",
     "text": [
      "Determinate:\n",
      "103.0\n",
      "\n"
     ]
    }
   ],
   "source": [
    "####################################################################################################################\n",
    "# Finding Determinate of A\n",
    "####################################################################################################################\n",
    "\n",
    "det = np.linalg.det(A)\n",
    "print('Determinate:' + '\\n' +str(round(det, 2))+ '\\n')\n"
   ]
  },
  {
   "cell_type": "code",
   "execution_count": 55,
   "id": "a91f4f7e",
   "metadata": {},
   "outputs": [
    {
     "name": "stdout",
     "output_type": "stream",
     "text": [
      "A^-1:\n",
      "[[ 0.36  0.24 -0.17]\n",
      " [ 0.17 -0.08  0.14]\n",
      " [-0.11 -0.13 -0.03]]\n",
      "\n"
     ]
    }
   ],
   "source": [
    "####################################################################################################################\n",
    "# Finding the Inverse of A\n",
    "####################################################################################################################\n",
    "\n",
    "if det != 0:\n",
    "    warnings.simplefilter('ignore')\n",
    "    A_inv = np.linalg.inv(A)\n",
    "    print('A^-1:' +'\\n' + str(np.around(A_inv, 2)) + '\\n')\n",
    "else:\n",
    "    \n",
    "    print('A is not invertible')"
   ]
  },
  {
   "cell_type": "code",
   "execution_count": 56,
   "id": "1ef514a5",
   "metadata": {},
   "outputs": [
    {
     "name": "stdout",
     "output_type": "stream",
     "text": [
      "x:\n",
      "[[-1.55339806]\n",
      " [ 0.09708738]\n",
      " [ 0.40776699]]\n"
     ]
    }
   ],
   "source": [
    "####################################################################################################################\n",
    "# Finding the x matrix\n",
    "####################################################################################################################\n",
    "\n",
    "if det != 0:\n",
    "    x = A_inv @ b\n",
    "print('x:' + '\\n' +str(x))\n"
   ]
  },
  {
   "cell_type": "code",
   "execution_count": 57,
   "id": "9416e56b",
   "metadata": {},
   "outputs": [
    {
     "name": "stdout",
     "output_type": "stream",
     "text": [
      "D is :  103.0\n",
      "D1 is :  -160.0\n",
      "D2 is :  10.0\n",
      "D3 is :  42.0\n",
      "Value of x is :  -1.5533980582524265\n",
      "Value of y is :  0.09708737864077667\n",
      "Value of z is :  0.4077669902912621\n"
     ]
    }
   ],
   "source": [
    "####################################################################################################################\n",
    "# Using Cramer's Rule for a 3x3\n",
    "####################################################################################################################\n",
    "\n",
    "coeff = [[2, 3, 2, -2],\n",
    "        [-1, -3, -8, -2],\n",
    "        [-3, 2, -7, 2]]\n",
    "\n",
    "\n",
    "d = [[coeff[0][0], coeff[0][1], coeff[0][2]],\n",
    "    [coeff[1][0], coeff[1][1], coeff[1][2]],\n",
    "    [coeff[2][0], coeff[2][1], coeff[2][2]]]\n",
    "\n",
    "d1 = [[coeff[0][3], coeff[0][1], coeff[0][2]],\n",
    "    [coeff[1][3], coeff[1][1], coeff[1][2]],\n",
    "    [coeff[2][3], coeff[2][1], coeff[2][2]]]\n",
    "\n",
    "d2 = [[coeff[0][0], coeff[0][3], coeff[0][2]],\n",
    "    [coeff[1][0], coeff[1][3], coeff[1][2]],\n",
    "    [coeff[2][0], coeff[2][3], coeff[2][2]]]\n",
    "\n",
    "d3 = [[coeff[0][0], coeff[0][1], coeff[0][3]],\n",
    "    [coeff[1][0], coeff[1][1], coeff[1][3]],\n",
    "    [coeff[2][0], coeff[2][1], coeff[2][3]]]\n",
    "\n",
    "\n",
    "D = np.linalg.det(d)\n",
    "D1 = np.linalg.det(d1)\n",
    "D2 = np.linalg.det(d2)\n",
    "D3 = np.linalg.det(d3)\n",
    "\n",
    "print(\"D is : \", str(round(D, 2)))\n",
    "print(\"D1 is : \", str(round(D1, 2)))\n",
    "print(\"D2 is : \", str(round(D2, 2)))\n",
    "print(\"D3 is : \", str(round(D3, 2)))\n",
    "\n",
    "\n",
    "if D != 0:\n",
    "\n",
    "    x = D1 / D\n",
    "    y = D2 / D\n",
    "\n",
    "    z = D3 / D \n",
    "\n",
    "    print(\"Value of x is : \", x)\n",
    "    print(\"Value of y is : \", y)\n",
    "    print(\"Value of z is : \", z)\n",
    "\n",
    "else:\n",
    "    if (D1 == 0 and D2 == 0 and\n",
    "        D3 == 0):\n",
    "        print(\"Infinite solutions\")\n",
    "    elif (D1 != 0 or D2 != 0 or\n",
    "        D3 != 0):\n",
    "        print(\"No solutions\")\n",
    "        "
   ]
  },
  {
   "cell_type": "code",
   "execution_count": null,
   "id": "28204850",
   "metadata": {},
   "outputs": [],
   "source": []
  }
 ],
 "metadata": {
  "kernelspec": {
   "display_name": "Python 3 (ipykernel)",
   "language": "python",
   "name": "python3"
  },
  "language_info": {
   "codemirror_mode": {
    "name": "ipython",
    "version": 3
   },
   "file_extension": ".py",
   "mimetype": "text/x-python",
   "name": "python",
   "nbconvert_exporter": "python",
   "pygments_lexer": "ipython3",
   "version": "3.9.12"
  }
 },
 "nbformat": 4,
 "nbformat_minor": 5
}
