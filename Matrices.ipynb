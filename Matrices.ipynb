{
 "cells": [
  {
   "cell_type": "code",
   "execution_count": 37,
   "id": "7ff2167a",
   "metadata": {},
   "outputs": [
    {
     "name": "stdout",
     "output_type": "stream",
     "text": [
      "Determinate:\n",
      "0.0\n",
      "\n",
      "A^T:\n",
      "[[ 1  1  0]\n",
      " [ 3  2 -1]\n",
      " [ 0  3  3]]\n",
      "\n",
      "A is not invertible\n"
     ]
    }
   ],
   "source": [
    "import numpy as np\n",
    "import math\n",
    "import warnings\n",
    "\n",
    "A = np.array([[1, 3, 0],\n",
    "            [1, 2, 3],\n",
    "             [0, -1, 3]])\n",
    "det = np.linalg.det(A)\n",
    "print('Determinate:' + '\\n' +str(det)+ '\\n')\n",
    "\n",
    "trans = np.transpose(A)\n",
    "print('A^T:' + '\\n' + str(trans) + '\\n')\n",
    "\n",
    "if det != 0:\n",
    "    warnings.simplefilter('ignore')\n",
    "    inv = np.linalg.inv(A)\n",
    "    print('A^-1:' +'\\n' + str(inv) + '\\n')\n",
    "else:\n",
    "    print('A is not invertible')"
   ]
  },
  {
   "cell_type": "code",
   "execution_count": 30,
   "id": "9416e56b",
   "metadata": {},
   "outputs": [
    {
     "name": "stdout",
     "output_type": "stream",
     "text": [
      "AB:\n",
      "\n",
      "[[3. 4.]\n",
      " [6. 5.]]\n"
     ]
    }
   ],
   "source": [
    "theta = 0\n",
    "B = np.array([[math.cos(theta), -math.sin(theta)],\n",
    "            [math.sin(theta), math.cos(theta)]])\n",
    "\n",
    "AB = A @ B\n",
    "print( 'AB:' + '\\n\\n' + str(AB))"
   ]
  },
  {
   "cell_type": "code",
   "execution_count": null,
   "id": "28204850",
   "metadata": {},
   "outputs": [],
   "source": []
  }
 ],
 "metadata": {
  "kernelspec": {
   "display_name": "Python 3 (ipykernel)",
   "language": "python",
   "name": "python3"
  },
  "language_info": {
   "codemirror_mode": {
    "name": "ipython",
    "version": 3
   },
   "file_extension": ".py",
   "mimetype": "text/x-python",
   "name": "python",
   "nbconvert_exporter": "python",
   "pygments_lexer": "ipython3",
   "version": "3.9.13"
  }
 },
 "nbformat": 4,
 "nbformat_minor": 5
}
